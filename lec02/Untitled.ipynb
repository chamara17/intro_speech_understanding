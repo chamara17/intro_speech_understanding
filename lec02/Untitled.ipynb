{
 "cells": [
  {
   "cell_type": "code",
   "execution_count": 6,
   "id": "c942746f-584a-4e77-bea9-0eefc9071017",
   "metadata": {},
   "outputs": [],
   "source": [
    "import homework2"
   ]
  },
  {
   "cell_type": "code",
   "execution_count": 7,
   "id": "c3d1f455-28e4-4b4e-94f3-9430e830608b",
   "metadata": {},
   "outputs": [
    {
     "name": "stderr",
     "output_type": "stream",
     "text": [
      "....\n",
      "----------------------------------------------------------------------\n",
      "Ran 4 tests in 0.002s\n",
      "\n",
      "OK\n"
     ]
    },
    {
     "name": "stdout",
     "output_type": "stream",
     "text": [
      "4 successes out of 4 tests run\n",
      "Score: 100%\n"
     ]
    }
   ],
   "source": [
    "import grade"
   ]
  },
  {
   "cell_type": "code",
   "execution_count": 8,
   "id": "5ecfbfdf-4a97-47c2-9848-f184d8d6ac26",
   "metadata": {},
   "outputs": [
    {
     "name": "stdout",
     "output_type": "stream",
     "text": [
      "Help on module homework2:\n",
      "\n",
      "NAME\n",
      "    homework2\n",
      "\n",
      "DESCRIPTION\n",
      "    This homework defines one method, called \"arithmetic\".\n",
      "    that method, type `help homework2.arithmetic`.\n",
      "\n",
      "FUNCTIONS\n",
      "    arithmetic(x, y)\n",
      "        Modify this code so that it performs one of four possible functions,\n",
      "        as specified in the following table:\n",
      "\n",
      "                            isinstance(x,str)  isinstance(x,float)\n",
      "        isinstance(y,str)   return x+y         return str(x)+y\n",
      "        isinstance(y,float) return x*int(y)    return x*y\n",
      "\n",
      "FILE\n",
      "    /Users/chamarakumarsinghe/Documents/intro_speech_understanding/lec02/homework2.py\n",
      "\n",
      "\n"
     ]
    }
   ],
   "source": [
    "help (homework2)"
   ]
  },
  {
   "cell_type": "code",
   "execution_count": 11,
   "id": "d520cd5b-ca75-4c33-85f0-9c0ad31accba",
   "metadata": {},
   "outputs": [
    {
     "name": "stdout",
     "output_type": "stream",
     "text": [
      "now z is foobar\n"
     ]
    }
   ],
   "source": [
    "z = homework2.arithmetic( \"foo\", \"bar\" )\n",
    "print ('now z is', z)\n"
   ]
  },
  {
   "cell_type": "code",
   "execution_count": 10,
   "id": "fc525e53-e9c2-4fac-8d6f-a40aa5c1a9f6",
   "metadata": {},
   "outputs": [],
   "source": [
    "import grade"
   ]
  },
  {
   "cell_type": "code",
   "execution_count": null,
   "id": "b0615087-8723-4f9f-93bf-9553af1d4ee8",
   "metadata": {},
   "outputs": [],
   "source": []
  }
 ],
 "metadata": {
  "kernelspec": {
   "display_name": "Python 3 (ipykernel)",
   "language": "python",
   "name": "python3"
  },
  "language_info": {
   "codemirror_mode": {
    "name": "ipython",
    "version": 3
   },
   "file_extension": ".py",
   "mimetype": "text/x-python",
   "name": "python",
   "nbconvert_exporter": "python",
   "pygments_lexer": "ipython3",
   "version": "3.13.5"
  }
 },
 "nbformat": 4,
 "nbformat_minor": 5
}
